{
 "cells": [
  {
   "cell_type": "code",
   "execution_count": 1,
   "metadata": {},
   "outputs": [
    {
     "data": {
      "text/plain": [
       "int"
      ]
     },
     "execution_count": 1,
     "metadata": {},
     "output_type": "execute_result"
    }
   ],
   "source": [
    "salary = 90000\n",
    "type (salary)\n"
   ]
  },
  {
   "cell_type": "code",
   "execution_count": null,
   "metadata": {},
   "outputs": [
    {
     "name": "stdout",
     "output_type": "stream",
     "text": [
      "DataJob\n",
      "DataJob\n",
      "DATA ANALYST\n"
     ]
    }
   ],
   "source": [
    "job_title = \"Data Analyst\"\n",
    "remove_word = \"Data\"\n",
    "# final_title = job_title-remove_word\n",
    " # 42 nd minute :- https://www.youtube.com/watch?v=wUSDVGivd-8&t=1916s\n",
    "type (job_title)\n",
    "\n",
    "print(\"Data\".__add__(\"Job\"))\n",
    "print('Data' +'Job') # both above and below are same\n",
    "print(job_title.upper())"
   ]
  },
  {
   "cell_type": "markdown",
   "metadata": {},
   "source": [
    "https://www.youtube.com/watch?v=wUSDVGivd-8&t=1916s \n",
    "1:05:06 - String Formatting  "
   ]
  },
  {
   "cell_type": "code",
   "execution_count": null,
   "metadata": {},
   "outputs": [
    {
     "name": "stdout",
     "output_type": "stream",
     "text": [
      "Role : Data Analyst\n",
      "Role : Data Analyst Skill Required : Python \n"
     ]
    }
   ],
   "source": [
    "# Create the string \"Role : Data Analyst\"\n",
    "role = \"Data Analyst\"\n",
    "skill = \"Python \"\n",
    "print(\"Role : {}\".format(role))\n",
    "\n",
    "# Create the string \"Role : Data Analyst; Skill Required : Python\"\n",
    "print (\"Role : {} Skill Required : {}\".format(role, skill)) # i feel pretty hard to read"
   ]
  },
  {
   "cell_type": "code",
   "execution_count": 17,
   "metadata": {},
   "outputs": [
    {
     "data": {
      "text/plain": [
       "'Role : Data Analyst Skill Required : Python '"
      ]
     },
     "execution_count": 17,
     "metadata": {},
     "output_type": "execute_result"
    }
   ],
   "source": [
    "# F Strings\n",
    "f\"Role : {role} Skill Required : {skill}\""
   ]
  },
  {
   "cell_type": "code",
   "execution_count": 5,
   "metadata": {},
   "outputs": [
    {
     "name": "stdout",
     "output_type": "stream",
     "text": [
      " Skill Required : python, sql, excel, tableau\n",
      " Skill Required : python, Other Skills : ['sql', 'excel', 'tableau']\n"
     ]
    }
   ],
   "source": [
    "#unpacking\n",
    "job_skills =['python', 'sql', 'excel', 'tableau']\n",
    "skill1, skill2, skill3, skill4 = job_skills\n",
    "print(f\" Skill Required : {skill1}, {skill2}, {skill3}, {skill4}\")\n",
    "skill_cncerned, *other_skills = job_skills\n",
    "print(f\" Skill Required : {skill_cncerned}, Other Skills : {other_skills}\")"
   ]
  },
  {
   "cell_type": "code",
   "execution_count": 10,
   "metadata": {},
   "outputs": [
    {
     "name": "stdout",
     "output_type": "stream",
     "text": [
      "dict_keys(['Data Analyst', 'Data Engineer', 'Data Scientist', 'ML Engineer'])\n",
      "dict_values([['python', 'sql', 'excel', 'tableau'], ['python', 'sql', 'spark', 'aws'], ['python', 'sql', 'tensorflow', 'pytorch'], 'python'])\n"
     ]
    }
   ],
   "source": [
    "# dictionary example\n",
    "job_type_skills = {\n",
    "    'Data Analyst' : ['python', 'sql', 'excel', 'tableau'],\n",
    "    'Data Engineer' : ['python', 'sql', 'spark', 'aws'],\n",
    "    'Data Scientist' : ['python', 'sql', 'tensorflow', 'pytorch']\n",
    "}\n",
    "job_type_skills.values()\n",
    "job_type_skills.update({'ML Engineer' : 'python'})\n",
    "print(job_type_skills.keys())\n",
    "print(job_type_skills.values())"
   ]
  },
  {
   "cell_type": "markdown",
   "metadata": {},
   "source": [
    "Lists\n",
    "sets\n",
    "Dictionaries\n",
    "Tuple\n",
    "\n",
    "Sets are unique. Sets are unordered. No index available. "
   ]
  },
  {
   "cell_type": "markdown",
   "metadata": {},
   "source": [
    "Tuple.\n",
    "Tuple is immutable . Tuple is for fixed data. \n",
    "When you append new data, it creates new list or new objects"
   ]
  },
  {
   "cell_type": "code",
   "execution_count": 15,
   "metadata": {},
   "outputs": [
    {
     "name": "stdout",
     "output_type": "stream",
     "text": [
      "4609767792\n",
      "4609537792\n"
     ]
    }
   ],
   "source": [
    "\n",
    "nag_skills = ('test1','sql','azure','R')\n",
    "nag_skills\n",
    "print(id(nag_skills))\n",
    "new_skills = ('teraaform','docker')\n",
    "nag_skills = nag_skills + new_skills\n",
    "nag_skills\n",
    "print(id(nag_skills))"
   ]
  },
  {
   "cell_type": "markdown",
   "metadata": {},
   "source": [
    "range()"
   ]
  },
  {
   "cell_type": "code",
   "execution_count": 18,
   "metadata": {},
   "outputs": [
    {
     "data": {
      "text/plain": [
       "(5, 7, 9, 11, 13, 15, 17, 19)"
      ]
     },
     "execution_count": 18,
     "metadata": {},
     "output_type": "execute_result"
    }
   ],
   "source": [
    "tuple(range(5))\n",
    "tuple(range(5, 20, 2)) # even numbers between 5 and 20"
   ]
  },
  {
   "cell_type": "markdown",
   "metadata": {},
   "source": [
    "Logical operators\n",
    "And\n",
    "OR\n",
    "NOT\n",
    "==\n",
    "is\n",
    "\n",
    "Bitwise operators"
   ]
  },
  {
   "cell_type": "code",
   "execution_count": 22,
   "metadata": {},
   "outputs": [
    {
     "name": "stdout",
     "output_type": "stream",
     "text": [
      "True\n",
      "False\n"
     ]
    }
   ],
   "source": [
    "salary_kelly = 100_000\n",
    "salary_luke = 100_000\n",
    "print(salary_kelly == salary_luke)\n",
    "print(salary_kelly is salary_luke)"
   ]
  },
  {
   "cell_type": "markdown",
   "metadata": {},
   "source": [
    "Loops\n",
    "Dont Repeat Yourself - DRY principle\n",
    "\n",
    "for loops\n",
    "wait loops"
   ]
  },
  {
   "cell_type": "code",
   "execution_count": null,
   "metadata": {},
   "outputs": [],
   "source": [
    "for _ in range(100):\n",
    "    print (_)\n",
    "\n",
    "numbers =[x for x in range(100)]\n",
    "numbers"
   ]
  },
  {
   "cell_type": "markdown",
   "metadata": {},
   "source": [
    "### Built - in functions"
   ]
  },
  {
   "cell_type": "code",
   "execution_count": 3,
   "metadata": {},
   "outputs": [
    {
     "data": {
      "text/plain": [
       "125000"
      ]
     },
     "execution_count": 3,
     "metadata": {},
     "output_type": "execute_result"
    }
   ],
   "source": [
    "data_salaries = [95000, 105000, 115000, 125000]\n",
    "min(data_salaries)\n",
    "max(data_salaries)"
   ]
  },
  {
   "cell_type": "code",
   "execution_count": 5,
   "metadata": {},
   "outputs": [
    {
     "name": "stdout",
     "output_type": "stream",
     "text": [
      "Total Salary: 11000.0\n"
     ]
    }
   ],
   "source": [
    "# Calcdulate total salary\n",
    "def calculate_total_salary(base_salary, bonus):\n",
    "    total_salary = base_salary + (base_salary * bonus)\n",
    "    return total_salary\n",
    "\n",
    "base_salary = 10000\n",
    "bonus = 0.1\n",
    "total_salary = calculate_total_salary(base_salary, bonus)\n",
    "print(f'Total Salary: {total_salary}')"
   ]
  },
  {
   "cell_type": "code",
   "execution_count": 10,
   "metadata": {},
   "outputs": [
    {
     "data": {
      "text/plain": [
       "[104500.0, 115500.0, 126500.0, 137500.0]"
      ]
     },
     "execution_count": 10,
     "metadata": {},
     "output_type": "execute_result"
    }
   ],
   "source": [
    "# Lambda functions\n",
    "mul_two = lambda x: x*2\n",
    "mul_two(5)\n",
    "(lambda x: x*2)(5)\n",
    "\n",
    "salaries_list = [95000, 105000, 115000, 125000]\n",
    "total_salaries = [(lambda x: x + (x * 0.1))(salary) for salary in salaries_list]\n",
    "total_salaries"
   ]
  }
 ],
 "metadata": {
  "kernelspec": {
   "display_name": "venv",
   "language": "python",
   "name": "python3"
  },
  "language_info": {
   "codemirror_mode": {
    "name": "ipython",
    "version": 3
   },
   "file_extension": ".py",
   "mimetype": "text/x-python",
   "name": "python",
   "nbconvert_exporter": "python",
   "pygments_lexer": "ipython3",
   "version": "3.13.7"
  }
 },
 "nbformat": 4,
 "nbformat_minor": 2
}
