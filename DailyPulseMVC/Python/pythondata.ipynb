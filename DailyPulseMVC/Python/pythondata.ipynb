{
 "cells": [
  {
   "cell_type": "code",
   "execution_count": 1,
   "metadata": {},
   "outputs": [
    {
     "data": {
      "text/plain": [
       "int"
      ]
     },
     "execution_count": 1,
     "metadata": {},
     "output_type": "execute_result"
    }
   ],
   "source": [
    "salary = 90000\n",
    "type (salary)\n"
   ]
  },
  {
   "cell_type": "code",
   "execution_count": null,
   "metadata": {},
   "outputs": [
    {
     "name": "stdout",
     "output_type": "stream",
     "text": [
      "DataJob\n",
      "DataJob\n",
      "DATA ANALYST\n"
     ]
    }
   ],
   "source": [
    "job_title = \"Data Analyst\"\n",
    "remove_word = \"Data\"\n",
    "# final_title = job_title-remove_word\n",
    " # 42 nd minute :- https://www.youtube.com/watch?v=wUSDVGivd-8&t=1916s\n",
    "type (job_title)\n",
    "\n",
    "print(\"Data\".__add__(\"Job\"))\n",
    "print('Data' +'Job') # both above and below are same\n",
    "print(job_title.upper())"
   ]
  },
  {
   "cell_type": "markdown",
   "metadata": {},
   "source": [
    "https://www.youtube.com/watch?v=wUSDVGivd-8&t=1916s \n",
    "1:05:06 - String Formatting  "
   ]
  },
  {
   "cell_type": "code",
   "execution_count": null,
   "metadata": {},
   "outputs": [
    {
     "name": "stdout",
     "output_type": "stream",
     "text": [
      "Role : Data Analyst\n",
      "Role : Data Analyst Skill Required : Python \n"
     ]
    }
   ],
   "source": [
    "# Create the string \"Role : Data Analyst\"\n",
    "role = \"Data Analyst\"\n",
    "skill = \"Python \"\n",
    "print(\"Role : {}\".format(role))\n",
    "\n",
    "# Create the string \"Role : Data Analyst; Skill Required : Python\"\n",
    "print (\"Role : {} Skill Required : {}\".format(role, skill)) # i feel pretty hard to read"
   ]
  },
  {
   "cell_type": "code",
   "execution_count": 17,
   "metadata": {},
   "outputs": [
    {
     "data": {
      "text/plain": [
       "'Role : Data Analyst Skill Required : Python '"
      ]
     },
     "execution_count": 17,
     "metadata": {},
     "output_type": "execute_result"
    }
   ],
   "source": [
    "# F Strings\n",
    "f\"Role : {role} Skill Required : {skill}\""
   ]
  }
 ],
 "metadata": {
  "kernelspec": {
   "display_name": "venv",
   "language": "python",
   "name": "python3"
  },
  "language_info": {
   "codemirror_mode": {
    "name": "ipython",
    "version": 3
   },
   "file_extension": ".py",
   "mimetype": "text/x-python",
   "name": "python",
   "nbconvert_exporter": "python",
   "pygments_lexer": "ipython3",
   "version": "3.13.7"
  }
 },
 "nbformat": 4,
 "nbformat_minor": 2
}
